{
  "nbformat": 4,
  "nbformat_minor": 0,
  "metadata": {
    "colab": {
      "name": "Trees",
      "version": "0.3.2",
      "provenance": []
    },
    "kernelspec": {
      "name": "python3",
      "display_name": "Python 3"
    }
  },
  "cells": [
    {
      "cell_type": "code",
      "metadata": {
        "id": "jAQ9f-4Qbx4a",
        "colab_type": "code",
        "outputId": "bb0df545-d6d6-4143-8f2c-a08f8b2bd09b",
        "colab": {
          "base_uri": "https://localhost:8080/",
          "height": 283
        }
      },
      "source": [
        "\n",
        "# Recursive Python program for level order traversal of Binary Tree \n",
        "  \n",
        "# A node structure \n",
        "class Node: \n",
        "  \n",
        "    # A utility function to create a new node \n",
        "    def __init__(self, key): \n",
        "        self.data = key  \n",
        "        self.left = None\n",
        "        self.right = None\n",
        "  \n",
        "  \n",
        "# Function to  print level order traversal of tree \n",
        "def printLevelOrder(root): \n",
        "    h = height(root) \n",
        "    for i in range(1, h+1): \n",
        "        printGivenLevel(root, i) \n",
        "  \n",
        "  \n",
        "# Print nodes at a given level \n",
        "def printGivenLevel(root , level): \n",
        "    if root is None: \n",
        "        return\n",
        "    if level == 1: \n",
        "        print (root.data)\n",
        "    elif level > 1 : \n",
        "        printGivenLevel(root.left , level-1) \n",
        "        printGivenLevel(root.right , level-1) \n",
        "  \n",
        "  \n",
        "\"\"\" Compute the height of a tree--the number of nodes \n",
        "    along the longest path from the root node down to \n",
        "    the farthest leaf node \n",
        "\"\"\"\n",
        "def height(node): \n",
        "    if node is None: \n",
        "        return 0 \n",
        "    else : \n",
        "        # Compute the height of each subtree  \n",
        "        lheight = height(node.left) \n",
        "        rheight = height(node.right) \n",
        "  \n",
        "        #Use the larger one \n",
        "        if lheight > rheight : \n",
        "            return lheight+1\n",
        "        else: \n",
        "            return rheight+1\n",
        "  \n",
        "# Driver program to test above function \n",
        "    \n",
        "root = Node('Plants')\n",
        "root.left = Node('Gymnosperm')\n",
        "root.right = Node('Angriosperm')\n",
        "root.left.left = Node('Cyads')\n",
        "root.left.right = Node('Conifers')\n",
        "root.right.right = Node('Annuals')\n",
        "root.right.left = Node('Perinneals')\n",
        "root.left.left.left = Node('Bowenia')\n",
        "root.left.left.right =Node('Stangeria')\n",
        "root.left.right.left =Node('Fir')\n",
        "root.left.right.right =Node('Pine')\n",
        "root.right.left.left =Node('Zinnias')\n",
        "root.right.left.right =Node('Climbing Snapdragon')\n",
        "root.right.right.left =Node('Lavender')\n",
        "root.right.right.right =Node('Datura')\n",
        "    \n",
        "      \n",
        "  \n",
        "  \n",
        "  \n",
        "print (\"Level order traversal of binary tree is -\")\n",
        "printLevelOrder(root) "
      ],
      "execution_count": 0,
      "outputs": [
        {
          "output_type": "stream",
          "text": [
            "Level order traversal of binary tree is -\n",
            "Plants\n",
            "Gymnosperm\n",
            "Angriosperm\n",
            "Cyads\n",
            "Conifers\n",
            "Perinneals\n",
            "Annuals\n",
            "Bowenia\n",
            "Stangeria\n",
            "Fir\n",
            "Pine\n",
            "Zinnias\n",
            "Climbing Snapdragon\n",
            "Lavender\n",
            "Datura\n"
          ],
          "name": "stdout"
        }
      ]
    },
    {
      "cell_type": "code",
      "metadata": {
        "id": "efvFnZr01EFE",
        "colab_type": "code",
        "colab": {}
      },
      "source": [
        ""
      ],
      "execution_count": 0,
      "outputs": []
    }
  ]
}